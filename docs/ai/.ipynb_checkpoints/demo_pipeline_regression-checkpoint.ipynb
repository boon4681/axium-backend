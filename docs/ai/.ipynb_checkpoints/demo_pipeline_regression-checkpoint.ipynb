{
 "cells": [
  {
   "cell_type": "code",
   "execution_count": null,
   "id": "fa262657",
   "metadata": {},
   "outputs": [],
   "source": [
    "import pandas as pd\n",
    "from sklearn.datasets import fetch_california_housing\n",
    "from sklearn.model_selection import train_test_split\n",
    "from sklearn.linear_model import LinearRegression\n",
    "from sklearn.metrics import mean_squared_error, r2_score\n",
    "import matplotlib.pyplot as plt\n",
    "import joblib\n"
   ]
  },
  {
   "cell_type": "markdown",
   "id": "928f5d39",
   "metadata": {},
   "source": [
    "### Load and Prepare California Housing Dataset"
   ]
  },
  {
   "cell_type": "code",
   "execution_count": null,
   "id": "ea5272be",
   "metadata": {},
   "outputs": [],
   "source": [
    "# === Load California housing dataset ===\n",
    "housing = fetch_california_housing()\n",
    "df = pd.DataFrame(housing.data, columns=housing.feature_names)\n",
    "df['target'] = housing.target  # Median house value in $100,000s\n",
    "\n",
    "# === Column formatting ===\n",
    "df.columns = [col.strip().lower().replace(\" \", \"_\").replace(\"(\", \"\").replace(\")\", \"\").replace(\"/\", \"_\") for col in df.columns]\n",
    "df.head()\n"
   ]
  },
  {
   "cell_type": "markdown",
   "id": "49e44e65",
   "metadata": {},
   "source": [
    "### Split Data into Training and Validation Sets"
   ]
  },
  {
   "cell_type": "code",
   "execution_count": null,
   "id": "2dffcffd",
   "metadata": {},
   "outputs": [],
   "source": [
    "# === Split data ===\n",
    "X = df.drop('target', axis=1)\n",
    "y = df['target']\n",
    "\n",
    "X_train, X_val, y_train, y_val = train_test_split(X, y, train_size=0.7, random_state=42)\n"
   ]
  },
  {
   "cell_type": "markdown",
   "id": "39846f17",
   "metadata": {},
   "source": [
    "### Train Linear Regression Model"
   ]
  },
  {
   "cell_type": "code",
   "execution_count": null,
   "id": "603638be",
   "metadata": {},
   "outputs": [],
   "source": [
    "# === Train linear regression model ===\n",
    "lr = LinearRegression()\n",
    "lr.fit(X_train, y_train)\n"
   ]
  },
  {
   "cell_type": "markdown",
   "id": "1838b34d",
   "metadata": {},
   "source": [
    "### Predict and Evaluate the Model"
   ]
  },
  {
   "cell_type": "code",
   "execution_count": null,
   "id": "b1213b7a",
   "metadata": {},
   "outputs": [],
   "source": [
    "# === Predict on validation data ===\n",
    "y_pred = lr.predict(X_val)\n",
    "\n",
    "# === Evaluate model ===\n",
    "mse = mean_squared_error(y_val, y_pred)\n",
    "r2 = r2_score(y_val, y_pred)\n",
    "\n",
    "print(\"Mean Squared Error (MSE):\", mse)\n",
    "print(\"R-squared (R²):\", r2)\n"
   ]
  },
  {
   "cell_type": "markdown",
   "id": "c191451f",
   "metadata": {},
   "source": [
    "### Visualize Predictions vs Actual"
   ]
  },
  {
   "cell_type": "code",
   "execution_count": null,
   "id": "418908d2",
   "metadata": {},
   "outputs": [],
   "source": [
    "plt.figure(figsize=(8, 6))\n",
    "plt.scatter(y_val, y_pred, color='blue', alpha=0.4, label='Predictions')\n",
    "plt.plot([y.min(), y.max()], [y.min(), y.max()], color='red', linestyle='--', label='Ideal Fit')\n",
    "plt.xlabel('Actual Median House Value')\n",
    "plt.ylabel('Predicted Median House Value')\n",
    "plt.title('Linear Regression: Actual vs Predicted (California Housing)')\n",
    "plt.legend()\n",
    "plt.grid(True)\n",
    "plt.show()\n"
   ]
  },
  {
   "cell_type": "markdown",
   "id": "141888a1",
   "metadata": {},
   "source": [
    "### Save the Trained Model"
   ]
  },
  {
   "cell_type": "code",
   "execution_count": null,
   "id": "57c5099d",
   "metadata": {},
   "outputs": [],
   "source": [
    "# === Save model ===\n",
    "joblib.dump(lr, \"linear_regression_california_housing.joblib\")\n",
    "print(\"Model saved as 'linear_regression_california_housing.joblib'.\")\n"
   ]
  }
 ],
 "metadata": {
  "kernelspec": {
   "display_name": "",
   "name": ""
  },
  "language_info": {
   "name": ""
  }
 },
 "nbformat": 4,
 "nbformat_minor": 5
}
